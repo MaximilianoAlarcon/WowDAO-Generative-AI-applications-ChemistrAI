{
  "cells": [
    {
      "cell_type": "markdown",
      "id": "74f27368",
      "metadata": {
        "papermill": {
          "duration": 0.005687,
          "end_time": "2023-04-25T22:39:18.670727",
          "exception": false,
          "start_time": "2023-04-25T22:39:18.665040",
          "status": "completed"
        },
        "tags": [],
        "id": "74f27368"
      },
      "source": [
        "<h1><center><b>ChemistrAI</b></center></h1>"
      ]
    },
    {
      "cell_type": "markdown",
      "id": "5d3c03d0",
      "metadata": {
        "papermill": {
          "duration": 0.004167,
          "end_time": "2023-04-25T22:39:18.679617",
          "exception": false,
          "start_time": "2023-04-25T22:39:18.675450",
          "status": "completed"
        },
        "tags": [],
        "id": "5d3c03d0"
      },
      "source": [
        "This is the final prototype after the development of this proyect called \"ChemistrAI\"\n",
        "\n",
        "It aims to help chemists broaden access to collective chemical research. \n",
        "\n",
        "In turn, this would accelerate research and development efforts in many key fields by avoiding duplication of previously published chemistries and identifying novel trends by mining large data sets."
      ]
    },
    {
      "cell_type": "markdown",
      "id": "a4be47dd",
      "metadata": {
        "papermill": {
          "duration": 0.004065,
          "end_time": "2023-04-25T22:39:18.688033",
          "exception": false,
          "start_time": "2023-04-25T22:39:18.683968",
          "status": "completed"
        },
        "tags": [],
        "id": "a4be47dd"
      },
      "source": [
        "In this notebook you will find the arquitecture of the model and an image input to predict the <b>International Chemical Identifier</b> (InChI)\n",
        "\n",
        "If you want to upload your image you can clone this notebook"
      ]
    },
    {
      "cell_type": "code",
      "execution_count": null,
      "id": "8a2ebebe",
      "metadata": {
        "_kg_hide-input": true,
        "execution": {
          "iopub.execute_input": "2023-04-25T22:39:18.699199Z",
          "iopub.status.busy": "2023-04-25T22:39:18.698369Z",
          "iopub.status.idle": "2023-04-25T22:39:24.279443Z",
          "shell.execute_reply": "2023-04-25T22:39:24.278364Z"
        },
        "papermill": {
          "duration": 5.589714,
          "end_time": "2023-04-25T22:39:24.282115",
          "exception": false,
          "start_time": "2023-04-25T22:39:18.692401",
          "status": "completed"
        },
        "tags": [],
        "id": "8a2ebebe"
      },
      "outputs": [],
      "source": [
        "#Libraries\n",
        "import os\n",
        "from matplotlib import pyplot as plt\n",
        "\n",
        "OUTPUT_DIR = './'\n",
        "if not os.path.exists(OUTPUT_DIR):\n",
        "    os.makedirs(OUTPUT_DIR)\n",
        "    \n",
        "import numpy as np\n",
        "import pandas as pd\n",
        "import gc\n",
        "import torch\n",
        "import torch.nn as nn\n",
        "import cv2\n",
        "from tqdm.auto import tqdm\n",
        "import timm\n",
        "from torch.utils.data import DataLoader, Dataset\n",
        "import albumentations as A\n",
        "from albumentations.pytorch import ToTensorV2\n",
        "import warnings \n",
        "warnings.filterwarnings('ignore')"
      ]
    },
    {
      "cell_type": "markdown",
      "id": "131dc61d",
      "metadata": {
        "papermill": {
          "duration": 0.004289,
          "end_time": "2023-04-25T22:39:24.290904",
          "exception": false,
          "start_time": "2023-04-25T22:39:24.286615",
          "status": "completed"
        },
        "tags": [],
        "id": "131dc61d"
      },
      "source": [
        "# **Device (CUDA, GPU100)**"
      ]
    },
    {
      "cell_type": "code",
      "execution_count": null,
      "id": "970ebdd8",
      "metadata": {
        "_kg_hide-input": true,
        "execution": {
          "iopub.execute_input": "2023-04-25T22:39:24.300707Z",
          "iopub.status.busy": "2023-04-25T22:39:24.300412Z",
          "iopub.status.idle": "2023-04-25T22:39:24.369779Z",
          "shell.execute_reply": "2023-04-25T22:39:24.368818Z"
        },
        "papermill": {
          "duration": 0.07681,
          "end_time": "2023-04-25T22:39:24.371977",
          "exception": false,
          "start_time": "2023-04-25T22:39:24.295167",
          "status": "completed"
        },
        "tags": [],
        "id": "970ebdd8"
      },
      "outputs": [],
      "source": [
        "device = torch.device('cuda' if torch.cuda.is_available() else 'cpu')"
      ]
    },
    {
      "cell_type": "markdown",
      "id": "a4fdfe4b",
      "metadata": {
        "papermill": {
          "duration": 0.00422,
          "end_time": "2023-04-25T22:39:24.380709",
          "exception": false,
          "start_time": "2023-04-25T22:39:24.376489",
          "status": "completed"
        },
        "tags": [],
        "id": "a4fdfe4b"
      },
      "source": [
        "# **Configuration**"
      ]
    },
    {
      "cell_type": "code",
      "execution_count": null,
      "id": "487e7807",
      "metadata": {
        "_kg_hide-input": true,
        "execution": {
          "iopub.execute_input": "2023-04-25T22:39:24.390748Z",
          "iopub.status.busy": "2023-04-25T22:39:24.390428Z",
          "iopub.status.idle": "2023-04-25T22:39:24.399535Z",
          "shell.execute_reply": "2023-04-25T22:39:24.398575Z"
        },
        "papermill": {
          "duration": 0.016439,
          "end_time": "2023-04-25T22:39:24.401585",
          "exception": false,
          "start_time": "2023-04-25T22:39:24.385146",
          "status": "completed"
        },
        "tags": [],
        "id": "487e7807"
      },
      "outputs": [],
      "source": [
        "class CFG:\n",
        "    debug          = True\n",
        "    apex           = False\n",
        "    max_len        = 275\n",
        "    print_freq     = 250\n",
        "    num_workers    = 4\n",
        "    model_name     = 'efficientnet_b2'\n",
        "    enc_size       = 1408\n",
        "    samp_size      = 500000\n",
        "    size           = 288\n",
        "    scheduler      = 'CosineAnnealingLR' \n",
        "    epochs         = 1 \n",
        "    T_max          = 4  \n",
        "    encoder_lr     = 1e-4\n",
        "    decoder_lr     = 4e-4\n",
        "    min_lr         = 1e-6\n",
        "    batch_size     = 32\n",
        "    weight_decay   = 1e-6\n",
        "    gradient_accumulation_steps = 1\n",
        "    max_grad_norm  = 10\n",
        "    attention_dim  = 256\n",
        "    embed_dim      = 512\n",
        "    decoder_dim    = 512\n",
        "    decoder_layers = 2     # number of LSTM layers\n",
        "    dropout        = 0.5\n",
        "    seed           = 42\n",
        "    n_fold         = 5\n",
        "    trn_fold       = 0 \n",
        "    prep_path      = 'tokenizer-and-preprocessing-of-chemical-formulas/'\n",
        "    pred_model     = 'model-effientnet/best_model.pth'"
      ]
    },
    {
      "cell_type": "markdown",
      "id": "cfc78d55",
      "metadata": {
        "papermill": {
          "duration": 0.004061,
          "end_time": "2023-04-25T22:39:24.409923",
          "exception": false,
          "start_time": "2023-04-25T22:39:24.405862",
          "status": "completed"
        },
        "tags": [],
        "id": "cfc78d55"
      },
      "source": [
        "# **Tokenizer**"
      ]
    },
    {
      "cell_type": "code",
      "execution_count": null,
      "id": "cd513d97",
      "metadata": {
        "_kg_hide-input": true,
        "execution": {
          "iopub.execute_input": "2023-04-25T22:39:24.420092Z",
          "iopub.status.busy": "2023-04-25T22:39:24.419307Z",
          "iopub.status.idle": "2023-04-25T22:39:24.441172Z",
          "shell.execute_reply": "2023-04-25T22:39:24.440279Z"
        },
        "papermill": {
          "duration": 0.029292,
          "end_time": "2023-04-25T22:39:24.443496",
          "exception": false,
          "start_time": "2023-04-25T22:39:24.414204",
          "status": "completed"
        },
        "tags": [],
        "id": "cd513d97"
      },
      "outputs": [],
      "source": [
        "class Tokenizer(object):\n",
        "    \n",
        "    def __init__(self):\n",
        "        self.stoi = {}\n",
        "        self.itos = {}\n",
        "\n",
        "    def __len__(self):\n",
        "        return len(self.stoi)\n",
        "    \n",
        "    def fit_on_texts(self, texts):\n",
        "        vocab = set()\n",
        "        for text in texts:\n",
        "            vocab.update(text.split(' '))\n",
        "        vocab = sorted(vocab)\n",
        "        vocab.append('<sos>')\n",
        "        vocab.append('<eos>')\n",
        "        vocab.append('<pad>')\n",
        "        for i, s in enumerate(vocab):\n",
        "            self.stoi[s] = i\n",
        "        self.itos = {item[1]: item[0] for item in self.stoi.items()}\n",
        "        \n",
        "    def text_to_sequence(self, text):\n",
        "        sequence = []\n",
        "        sequence.append(self.stoi['<sos>'])\n",
        "        for s in text.split(' '):\n",
        "            sequence.append(self.stoi[s])\n",
        "        sequence.append(self.stoi['<eos>'])\n",
        "        return sequence\n",
        "    \n",
        "    def texts_to_sequences(self, texts):\n",
        "        sequences = []\n",
        "        for text in texts:\n",
        "            sequence = self.text_to_sequence(text)\n",
        "            sequences.append(sequence)\n",
        "        return sequences\n",
        "\n",
        "    def sequence_to_text(self, sequence):\n",
        "        return ''.join(list(map(lambda i: self.itos[i], sequence)))\n",
        "    \n",
        "    def sequences_to_texts(self, sequences):\n",
        "        texts = []\n",
        "        for sequence in sequences:\n",
        "            text = self.sequence_to_text(sequence)\n",
        "            texts.append(text)\n",
        "        return texts\n",
        "    \n",
        "    def predict_caption(self, sequence):\n",
        "        caption = ''\n",
        "        for i in sequence:\n",
        "            if i == self.stoi['<eos>'] or i == self.stoi['<pad>']:\n",
        "                break\n",
        "            caption += self.itos[i]\n",
        "        return caption\n",
        "    \n",
        "    def predict_captions(self, sequences):\n",
        "        captions = []\n",
        "        for sequence in sequences:\n",
        "            caption = self.predict_caption(sequence)\n",
        "            captions.append(caption)\n",
        "        return captions\n",
        "\n",
        "tokenizer = torch.load(CFG.prep_path + 'tokenizer.pth')"
      ]
    },
    {
      "cell_type": "markdown",
      "id": "81f3fa07",
      "metadata": {
        "papermill": {
          "duration": 0.003962,
          "end_time": "2023-04-25T22:39:24.451651",
          "exception": false,
          "start_time": "2023-04-25T22:39:24.447689",
          "status": "completed"
        },
        "tags": [],
        "id": "81f3fa07"
      },
      "source": [
        "# **Model (RNN Encoder & CNN decoder)**"
      ]
    },
    {
      "cell_type": "code",
      "execution_count": null,
      "id": "cbc8b337",
      "metadata": {
        "_kg_hide-input": true,
        "execution": {
          "iopub.execute_input": "2023-04-25T22:39:24.462929Z",
          "iopub.status.busy": "2023-04-25T22:39:24.461247Z",
          "iopub.status.idle": "2023-04-25T22:39:30.757993Z",
          "shell.execute_reply": "2023-04-25T22:39:30.756745Z"
        },
        "papermill": {
          "duration": 6.304527,
          "end_time": "2023-04-25T22:39:30.760377",
          "exception": false,
          "start_time": "2023-04-25T22:39:24.455850",
          "status": "completed"
        },
        "tags": [],
        "id": "cbc8b337",
        "outputId": "f5fcea35-c4c9-4ff5-c59d-5c6522618e3f"
      },
      "outputs": [
        {
          "data": {
            "text/plain": [
              "9"
            ]
          },
          "execution_count": 5,
          "metadata": {},
          "output_type": "execute_result"
        }
      ],
      "source": [
        "def get_transforms(*, data):\n",
        "    \n",
        "    if data == 'train':\n",
        "        return A.Compose([\n",
        "            A.Resize(CFG.size, CFG.size),\n",
        "            A.Normalize(\n",
        "                mean=[0.485, 0.456, 0.406],\n",
        "                std=[0.229, 0.224, 0.225],\n",
        "            ),\n",
        "            ToTensorV2(),\n",
        "        ])\n",
        "    \n",
        "    elif data == 'valid':\n",
        "        return A.Compose([\n",
        "            A.Resize(CFG.size, CFG.size),\n",
        "            A.Normalize(\n",
        "                mean=[0.485, 0.456, 0.406],\n",
        "                std=[0.229, 0.224, 0.225],\n",
        "            ),\n",
        "            ToTensorV2(),\n",
        "        ])\n",
        "\n",
        "\n",
        "#CNN Encoder\n",
        "\n",
        "class Encoder(nn.Module):\n",
        "    def __init__(self, model_name = CFG.model_name, pretrained = False):\n",
        "        super().__init__()\n",
        "        self.cnn = timm.create_model(model_name, pretrained = pretrained)\n",
        "\n",
        "    def forward(self, x):\n",
        "        bs       = x.size(0)\n",
        "        features = self.cnn.forward_features(x)\n",
        "        features = features.permute(0, 2, 3, 1)\n",
        "        return features\n",
        "\n",
        "#RNN Decoder\n",
        "\n",
        "#Attention module\n",
        "class Attention(nn.Module):\n",
        "    '''\n",
        "    Attention network for calculate attention value\n",
        "    '''\n",
        "    def __init__(self, encoder_dim, decoder_dim, attention_dim):\n",
        "        '''\n",
        "        :param encoder_dim: input size of encoder network\n",
        "        :param decoder_dim: input size of decoder network\n",
        "        :param attention_dim: input size of attention network\n",
        "        '''\n",
        "        super(Attention, self).__init__()\n",
        "        self.encoder_att = nn.Linear(encoder_dim, attention_dim)  # linear layer to transform encoded image\n",
        "        self.decoder_att = nn.Linear(decoder_dim, attention_dim)  # linear layer to transform decoder's output\n",
        "        self.full_att    = nn.Linear(attention_dim, 1)            # linear layer to calculate values to be softmax-ed\n",
        "        self.relu        = nn.ReLU()\n",
        "        self.softmax     = nn.Softmax(dim = 1)  # softmax layer to calculate weights\n",
        "\n",
        "    def forward(self, encoder_out, decoder_hidden):\n",
        "        att1  = self.encoder_att(encoder_out)     # (batch_size, num_pixels, attention_dim)\n",
        "        att2  = self.decoder_att(decoder_hidden)  # (batch_size, attention_dim)\n",
        "        att   = self.full_att(self.relu(att1 + att2.unsqueeze(1))).squeeze(2)  # (batch_size, num_pixels)\n",
        "        alpha = self.softmax(att)                 # (batch_size, num_pixels)\n",
        "        attention_weighted_encoding = (encoder_out * alpha.unsqueeze(2)).sum(dim = 1)  # (batch_size, encoder_dim)\n",
        "        return attention_weighted_encoding, alpha\n",
        "    \n",
        "    \n",
        "#Custom LSTM cell\n",
        "def LSTMCell(input_size, hidden_size, **kwargs):\n",
        "    m = nn.LSTMCell(input_size, hidden_size, **kwargs)\n",
        "    for name, param in m.named_parameters():\n",
        "        if 'weight' in name or 'bias' in name:\n",
        "            param.data.uniform_(-0.1, 0.1)\n",
        "    return m\n",
        "\n",
        "#Decoder\n",
        "class DecoderWithAttention(nn.Module):\n",
        "    '''\n",
        "    Decoder network with attention network used for training\n",
        "    '''\n",
        "\n",
        "    def __init__(self, attention_dim, embed_dim, decoder_dim, vocab_size, device, encoder_dim, dropout, num_layers):\n",
        "        '''\n",
        "        :param attention_dim: input size of attention network\n",
        "        :param embed_dim: input size of embedding network\n",
        "        :param decoder_dim: input size of decoder network\n",
        "        :param vocab_size: total number of characters used in training\n",
        "        :param encoder_dim: input size of encoder network\n",
        "        :param num_layers: number of the LSTM layers\n",
        "        :param dropout: dropout rate\n",
        "        '''\n",
        "        super(DecoderWithAttention, self).__init__()\n",
        "        self.encoder_dim   = encoder_dim\n",
        "        self.attention_dim = attention_dim\n",
        "        self.embed_dim     = embed_dim\n",
        "        self.decoder_dim   = decoder_dim\n",
        "        self.vocab_size    = vocab_size\n",
        "        self.dropout       = dropout\n",
        "        self.num_layers    = num_layers\n",
        "        self.device        = device\n",
        "        self.attention     = Attention(encoder_dim, decoder_dim, attention_dim)  # attention network\n",
        "        self.embedding     = nn.Embedding(vocab_size, embed_dim)                 # embedding layer\n",
        "        self.dropout       = nn.Dropout(p = self.dropout)\n",
        "        self.decode_step   = nn.ModuleList([LSTMCell(embed_dim + encoder_dim if layer == 0 else embed_dim, embed_dim) for layer in range(self.num_layers)]) # decoding LSTMCell        \n",
        "        self.init_h        = nn.Linear(encoder_dim, decoder_dim)  # linear layer to find initial hidden state of LSTMCell\n",
        "        self.init_c        = nn.Linear(encoder_dim, decoder_dim)  # linear layer to find initial cell state of LSTMCell\n",
        "        self.f_beta        = nn.Linear(decoder_dim, encoder_dim)  # linear layer to create a sigmoid-activated gate\n",
        "        self.sigmoid       = nn.Sigmoid()\n",
        "        self.fc            = nn.Linear(decoder_dim, vocab_size)  # linear layer to find scores over vocabulary\n",
        "        self.init_weights()                                      # initialize some layers with the uniform distribution\n",
        "\n",
        "    def init_weights(self):\n",
        "        self.embedding.weight.data.uniform_(-0.1, 0.1)\n",
        "        self.fc.bias.data.fill_(0)\n",
        "        self.fc.weight.data.uniform_(-0.1, 0.1)\n",
        "\n",
        "    def load_pretrained_embeddings(self, embeddings):\n",
        "        self.embedding.weight = nn.Parameter(embeddings)\n",
        "\n",
        "    def fine_tune_embeddings(self, fine_tune = True):\n",
        "        for p in self.embedding.parameters():\n",
        "            p.requires_grad = fine_tune\n",
        "\n",
        "    def init_hidden_state(self, encoder_out):\n",
        "        mean_encoder_out = encoder_out.mean(dim = 1)\n",
        "        h = [self.init_h(mean_encoder_out) for i in range(self.num_layers)]  # (batch_size, decoder_dim)\n",
        "        c = [self.init_c(mean_encoder_out) for i in range(self.num_layers)]\n",
        "        return h, c\n",
        "\n",
        "    def forward(self, encoder_out, encoded_captions, caption_lengths):\n",
        "        '''\n",
        "        :param encoder_out: output of encoder network\n",
        "        :param encoded_captions: transformed sequence from character to integer\n",
        "        :param caption_lengths: length of transformed sequence\n",
        "        '''\n",
        "        batch_size       = encoder_out.size(0)\n",
        "        encoder_dim      = encoder_out.size(-1)\n",
        "        vocab_size       = self.vocab_size\n",
        "        encoder_out      = encoder_out.view(batch_size, -1, encoder_dim)  # (batch_size, num_pixels, encoder_dim)\n",
        "        num_pixels       = encoder_out.size(1)\n",
        "        caption_lengths, sort_ind = caption_lengths.squeeze(1).sort(dim = 0, descending = True)\n",
        "        encoder_out      = encoder_out[sort_ind]\n",
        "        encoded_captions = encoded_captions[sort_ind]\n",
        "        \n",
        "        # embedding transformed sequence for vector\n",
        "        embeddings = self.embedding(encoded_captions)  # (batch_size, max_caption_length, embed_dim)\n",
        "        \n",
        "        # Initialize LSTM state, initialize cell_vector and hidden_vector\n",
        "        prev_h, prev_c = self.init_hidden_state(encoder_out)  # (batch_size, decoder_dim)\n",
        "        \n",
        "        # set decode length by caption length - 1 because of omitting start token\n",
        "        decode_lengths = (caption_lengths - 1).tolist()\n",
        "        predictions    = torch.zeros(batch_size, max(decode_lengths), vocab_size, device = self.device)\n",
        "        alphas         = torch.zeros(batch_size, max(decode_lengths), num_pixels, device = self.device)\n",
        "        \n",
        "        # predict sequence\n",
        "        for t in range(max(decode_lengths)):\n",
        "            batch_size_t = sum([l > t for l in decode_lengths])\n",
        "            attention_weighted_encoding, alpha = self.attention(encoder_out[:batch_size_t],\n",
        "                                                                prev_h[-1][:batch_size_t])\n",
        "            gate = self.sigmoid(self.f_beta(prev_h[-1][:batch_size_t]))  # gating scalar, (batch_size_t, encoder_dim)\n",
        "            attention_weighted_encoding = gate * attention_weighted_encoding\n",
        "\n",
        "            input = torch.cat([embeddings[:batch_size_t, t, :], attention_weighted_encoding], dim=1)\n",
        "            \n",
        "            for i, rnn in enumerate(self.decode_step):\n",
        "                # recurrent cell\n",
        "                h, c = rnn(input, (prev_h[i][:batch_size_t], prev_c[i][:batch_size_t])) # cell_vector and hidden_vector\n",
        "\n",
        "                # hidden state becomes the input to the next layer\n",
        "                input = self.dropout(h)\n",
        "\n",
        "                # save state for next time step\n",
        "                prev_h[i] = h\n",
        "                prev_c[i] = c\n",
        "                \n",
        "            preds = self.fc(self.dropout(h))  # (batch_size_t, vocab_size)\n",
        "            predictions[:batch_size_t, t, :] = preds\n",
        "            alphas[:batch_size_t, t, :]      = alpha\n",
        "            \n",
        "        return predictions, encoded_captions, decode_lengths, alphas, sort_ind\n",
        "    \n",
        "    def predict(self, encoder_out, decode_lengths, tokenizer):\n",
        "        \n",
        "        # size variables\n",
        "        batch_size  = encoder_out.size(0)\n",
        "        encoder_dim = encoder_out.size(-1)\n",
        "        vocab_size  = self.vocab_size\n",
        "        encoder_out = encoder_out.view(batch_size, -1, encoder_dim)  # (batch_size, num_pixels, encoder_dim)\n",
        "        num_pixels  = encoder_out.size(1)\n",
        "        \n",
        "        # embed start tocken for LSTM input\n",
        "        start_tockens = torch.ones(batch_size, dtype = torch.long, device = self.device) * tokenizer.stoi['<sos>']\n",
        "        embeddings    = self.embedding(start_tockens)\n",
        "        \n",
        "        # initialize hidden state and cell state of LSTM cell\n",
        "        h, c        = self.init_hidden_state(encoder_out)  # (batch_size, decoder_dim)\n",
        "        predictions = torch.zeros(batch_size, decode_lengths, vocab_size, device = self.device)\n",
        "        \n",
        "        # predict sequence\n",
        "        end_condition = torch.zeros(batch_size, dtype=torch.long, device = self.device)\n",
        "        for t in range(decode_lengths):\n",
        "            awe, alpha = self.attention(encoder_out, h[-1])  # (s, encoder_dim), (s, num_pixels)\n",
        "            gate       = self.sigmoid(self.f_beta(h[-1]))    # gating scalar, (s, encoder_dim)\n",
        "            awe        = gate * awe\n",
        "            \n",
        "            input = torch.cat([embeddings, awe], dim=1)\n",
        " \n",
        "            for j, rnn in enumerate(self.decode_step):\n",
        "                at_h, at_c = rnn(input, (h[j], c[j]))  # (s, decoder_dim)\n",
        "                input = self.dropout(at_h)\n",
        "                h[j]  = at_h\n",
        "                c[j]  = at_c\n",
        "            \n",
        "            preds = self.fc(self.dropout(h[-1]))  # (batch_size_t, vocab_size)\n",
        "            predictions[:, t, :] = preds\n",
        "            end_condition |= (torch.argmax(preds, -1) == tokenizer.stoi[\"<eos>\"])\n",
        "            if end_condition.sum() == batch_size:\n",
        "                break\n",
        "            embeddings = self.embedding(torch.argmax(preds, -1))\n",
        "        \n",
        "        return predictions\n",
        "    \n",
        "    # beam search\n",
        "    def forward_step(self, prev_tokens, hidden, encoder_out, function):\n",
        "        \n",
        "        h, c = hidden\n",
        "        #h, c = h.squeeze(0), c.squeeze(0)\n",
        "        h, c = [hi.squeeze(0) for hi in h], [ci.squeeze(0) for ci in c]\n",
        "        \n",
        "        embeddings = self.embedding(prev_tokens)\n",
        "        if embeddings.dim() == 3:\n",
        "            embeddings = embeddings.squeeze(1)\n",
        "            \n",
        "        awe, alpha = self.attention(encoder_out, h[-1])  # (s, encoder_dim), (s, num_pixels)\n",
        "        gate       = self.sigmoid(self.f_beta(h[-1]))    # gating scalar, (s, encoder_dim)\n",
        "        awe        = gate * awe\n",
        "        \n",
        "        input = torch.cat([embeddings, awe], dim = 1)\n",
        "        for j, rnn in enumerate(self.decode_step):\n",
        "            at_h, at_c = rnn(input, (h[j], c[j]))  # (s, decoder_dim)\n",
        "            input = self.dropout(at_h)\n",
        "            h[j]  = at_h\n",
        "            c[j]  = at_c\n",
        "\n",
        "        preds = self.fc(self.dropout(h[-1]))  # (batch_size_t, vocab_size)\n",
        "\n",
        "        #hidden = (h.unsqueeze(0), c.unsqueeze(0))\n",
        "        hidden = [hi.unsqueeze(0) for hi in h], [ci.unsqueeze(0) for ci in c]\n",
        "        predicted_softmax = function(preds, dim = 1)\n",
        "        \n",
        "        return predicted_softmax, hidden, Nonea\n",
        "\n",
        "\n",
        "#Load model\n",
        "\n",
        "states = torch.load(CFG.pred_model, map_location = torch.device('cpu'))\n",
        "\n",
        "encoder = Encoder(CFG.model_name, pretrained = False)\n",
        "encoder.load_state_dict(states['encoder'])\n",
        "encoder.to(device)\n",
        "\n",
        "decoder = DecoderWithAttention(attention_dim = CFG.attention_dim, \n",
        "                               embed_dim     = CFG.embed_dim, \n",
        "                               encoder_dim   = CFG.enc_size,\n",
        "                               decoder_dim   = CFG.decoder_dim,\n",
        "                               num_layers    = CFG.decoder_layers,\n",
        "                               vocab_size    = len(tokenizer), \n",
        "                               dropout       = CFG.dropout, \n",
        "                               device        = device)\n",
        "decoder.load_state_dict(states['decoder'])\n",
        "decoder.to(device)\n",
        "\n",
        "del states; gc.collect()"
      ]
    },
    {
      "cell_type": "markdown",
      "id": "ce824223",
      "metadata": {
        "papermill": {
          "duration": 0.004341,
          "end_time": "2023-04-25T22:39:30.769534",
          "exception": false,
          "start_time": "2023-04-25T22:39:30.765193",
          "status": "completed"
        },
        "tags": [],
        "id": "ce824223"
      },
      "source": [
        "# **Dataset transformer**"
      ]
    },
    {
      "cell_type": "code",
      "execution_count": null,
      "id": "e84d1ae5",
      "metadata": {
        "_kg_hide-input": true,
        "execution": {
          "iopub.execute_input": "2023-04-25T22:39:30.780694Z",
          "iopub.status.busy": "2023-04-25T22:39:30.779640Z",
          "iopub.status.idle": "2023-04-25T22:39:30.788804Z",
          "shell.execute_reply": "2023-04-25T22:39:30.787598Z"
        },
        "papermill": {
          "duration": 0.017046,
          "end_time": "2023-04-25T22:39:30.791135",
          "exception": false,
          "start_time": "2023-04-25T22:39:30.774089",
          "status": "completed"
        },
        "tags": [],
        "id": "e84d1ae5"
      },
      "outputs": [],
      "source": [
        "class TestDataset(Dataset):\n",
        "    def __init__(self, df, transform=None):\n",
        "        super().__init__()\n",
        "        self.df            = df\n",
        "        self.file_paths    = df['file_path'].values\n",
        "        self.transform     = transform\n",
        "        self.fix_transform = A.Compose([A.Transpose(p=1), A.VerticalFlip(p=1)])\n",
        "    \n",
        "    def __len__(self):\n",
        "        return len(self.df)\n",
        "    \n",
        "    def __getitem__(self, idx):\n",
        "        file_path = self.file_paths[idx]\n",
        "        image = cv2.imread(file_path)\n",
        "        image = cv2.cvtColor(image, cv2.COLOR_BGR2RGB).astype(np.float32)\n",
        "        h, w, _ = image.shape\n",
        "        if h > w:\n",
        "            image = self.fix_transform(image=image)['image']\n",
        "        if self.transform:\n",
        "            augmented = self.transform(image=image)\n",
        "            image     = augmented['image']\n",
        "        return image"
      ]
    },
    {
      "cell_type": "markdown",
      "id": "8fcd3a28",
      "metadata": {
        "papermill": {
          "duration": 0.005256,
          "end_time": "2023-04-25T22:39:30.801010",
          "exception": false,
          "start_time": "2023-04-25T22:39:30.795754",
          "status": "completed"
        },
        "tags": [],
        "id": "8fcd3a28"
      },
      "source": [
        "# **Inference function**"
      ]
    },
    {
      "cell_type": "code",
      "execution_count": null,
      "id": "56ca3950",
      "metadata": {
        "_kg_hide-input": true,
        "execution": {
          "iopub.execute_input": "2023-04-25T22:39:30.811846Z",
          "iopub.status.busy": "2023-04-25T22:39:30.810975Z",
          "iopub.status.idle": "2023-04-25T22:39:30.818687Z",
          "shell.execute_reply": "2023-04-25T22:39:30.817614Z"
        },
        "papermill": {
          "duration": 0.015311,
          "end_time": "2023-04-25T22:39:30.820818",
          "exception": false,
          "start_time": "2023-04-25T22:39:30.805507",
          "status": "completed"
        },
        "tags": [],
        "id": "56ca3950"
      },
      "outputs": [],
      "source": [
        "def inference(test_loader, encoder, decoder, tokenizer, device):\n",
        "    \n",
        "    encoder.eval()\n",
        "    decoder.eval()\n",
        "    \n",
        "    text_preds = []\n",
        "    tk0 = tqdm(test_loader, total = len(test_loader))\n",
        "    \n",
        "    for images in tk0:\n",
        "        \n",
        "        images = images.to(device)\n",
        "        \n",
        "        with torch.no_grad():\n",
        "            features = encoder(images)\n",
        "            predictions = decoder.predict(features, CFG.max_len, tokenizer)\n",
        "            \n",
        "        predicted_sequence = torch.argmax(predictions.detach().cpu(), -1).numpy()\n",
        "        _text_preds = tokenizer.predict_captions(predicted_sequence)\n",
        "        text_preds.append(_text_preds)\n",
        "        \n",
        "    text_preds = np.concatenate(text_preds)\n",
        "    \n",
        "    return text_preds"
      ]
    },
    {
      "cell_type": "markdown",
      "id": "e583c5eb",
      "metadata": {
        "papermill": {
          "duration": 0.004216,
          "end_time": "2023-04-25T22:39:30.829558",
          "exception": false,
          "start_time": "2023-04-25T22:39:30.825342",
          "status": "completed"
        },
        "tags": [],
        "id": "e583c5eb"
      },
      "source": [
        "# **Input image**"
      ]
    },
    {
      "cell_type": "code",
      "execution_count": null,
      "id": "0f87c11e",
      "metadata": {
        "execution": {
          "iopub.execute_input": "2023-04-25T22:39:30.840132Z",
          "iopub.status.busy": "2023-04-25T22:39:30.839280Z",
          "iopub.status.idle": "2023-04-25T22:39:30.850936Z",
          "shell.execute_reply": "2023-04-25T22:39:30.849921Z"
        },
        "papermill": {
          "duration": 0.020382,
          "end_time": "2023-04-25T22:39:30.854382",
          "exception": false,
          "start_time": "2023-04-25T22:39:30.834000",
          "status": "completed"
        },
        "tags": [],
        "colab": {
          "referenced_widgets": [
            "1b3f7eaaf0c648138637da00c10efd27"
          ]
        },
        "id": "0f87c11e",
        "outputId": "50cbd115-2efa-40c3-c679-97b1cf7b9231"
      },
      "outputs": [
        {
          "name": "stdout",
          "output_type": "stream",
          "text": [
            "Upload your dataset here please\n",
            "================================================================\n",
            "\n"
          ]
        },
        {
          "data": {
            "application/vnd.jupyter.widget-view+json": {
              "model_id": "1b3f7eaaf0c648138637da00c10efd27",
              "version_major": 2,
              "version_minor": 0
            },
            "text/plain": [
              "FileUpload(value={}, accept='.png', description='Upload')"
            ]
          },
          "metadata": {},
          "output_type": "display_data"
        }
      ],
      "source": [
        "from ipywidgets import FileUpload\n",
        "upload = FileUpload(\n",
        "    accept='.png',  # Accepted file extension e.g. '.txt', '.pdf', 'image/*', 'image/*,.pdf'\n",
        "    multiple=False  # True to accept multiple files upload else False\n",
        ")\n",
        "print(\"Upload your dataset here please\")\n",
        "print(\"=\"*64)\n",
        "print(\"\")\n",
        "display(upload)"
      ]
    },
    {
      "cell_type": "markdown",
      "id": "6089db13",
      "metadata": {
        "papermill": {
          "duration": 0.004304,
          "end_time": "2023-04-25T22:39:30.863174",
          "exception": false,
          "start_time": "2023-04-25T22:39:30.858870",
          "status": "completed"
        },
        "tags": [],
        "id": "6089db13"
      },
      "source": [
        "# **Projecting the inference**"
      ]
    },
    {
      "cell_type": "code",
      "execution_count": null,
      "id": "af5cefc8",
      "metadata": {
        "execution": {
          "iopub.execute_input": "2023-04-25T22:39:30.874008Z",
          "iopub.status.busy": "2023-04-25T22:39:30.873070Z",
          "iopub.status.idle": "2023-04-25T22:39:35.670062Z",
          "shell.execute_reply": "2023-04-25T22:39:35.668714Z"
        },
        "papermill": {
          "duration": 4.805353,
          "end_time": "2023-04-25T22:39:35.672906",
          "exception": false,
          "start_time": "2023-04-25T22:39:30.867553",
          "status": "completed"
        },
        "tags": [],
        "colab": {
          "referenced_widgets": [
            "f44caaa6e41e4580b270f3467dfa8e40"
          ]
        },
        "id": "af5cefc8",
        "outputId": "3b080bdd-e327-458e-cad3-a282b6fed6cb"
      },
      "outputs": [
        {
          "name": "stdout",
          "output_type": "stream",
          "text": [
            "Loading sample image\n",
            "The filename is: ../input/sample-molecular-image/sample.png\n"
          ]
        },
        {
          "data": {
            "application/vnd.jupyter.widget-view+json": {
              "model_id": "f44caaa6e41e4580b270f3467dfa8e40",
              "version_major": 2,
              "version_minor": 0
            },
            "text/plain": [
              "  0%|          | 0/1 [00:00<?, ?it/s]"
            ]
          },
          "metadata": {},
          "output_type": "display_data"
        },
        {
          "data": {
            "image/png": "[encoded data removed]",
            "text/plain": [
              "<Figure size 640x480 with 1 Axes>"
            ]
          },
          "metadata": {},
          "output_type": "display_data"
        },
        {
          "name": "stdout",
          "output_type": "stream",
          "text": [
            "Prediction:\n",
            "InChI=1S/C11H16BrN4/c1-8-6-14-11(16-9)9(15-2)9(15-3)4-5-14-7-13-8/h4-5,8,14H,6H2,1-3H3\n"
          ]
        }
      ],
      "source": [
        "file_name = \"\"\n",
        "if len(upload.data) > 0:\n",
        "    with open(\"test_image.png\", \"w+b\") as i:\n",
        "        i.write(upload.data[0]) \n",
        "    print(\"Saving loaded image\")\n",
        "    file_name = \"test_image.png\"\n",
        "else:\n",
        "    print(\"Loading sample image\")\n",
        "    file_name = \"sample-molecular-image/sample.png\"\n",
        "print(\"The filename is: \"+file_name)\n",
        "\n",
        "\n",
        "data_raw = [{\"file_path\":file_name}]\n",
        "test = pd.DataFrame(data_raw)\n",
        "test_dataset = TestDataset(test, transform = get_transforms(data = 'valid'))\n",
        "test_loader  = DataLoader(test_dataset, batch_size = 256, shuffle = False, num_workers = CFG.num_workers)\n",
        "prediction  = inference(test_loader, encoder, decoder, tokenizer, device)\n",
        "prediction = \"InChI=1S/\"+prediction[0]\n",
        "\n",
        "img = cv2.imread(file_name)\n",
        "gray = cv2.cvtColor(img, cv2.COLOR_BGR2BGRA)\n",
        "plt.imshow(gray)\n",
        "plt.title('Image')\n",
        "plt.show()\n",
        "\n",
        "print(\"Prediction:\")\n",
        "print(prediction)"
      ]
    }
  ],
  "metadata": {
    "kernelspec": {
      "display_name": "Python 3",
      "language": "python",
      "name": "python3"
    },
    "language_info": {
      "codemirror_mode": {
        "name": "ipython",
        "version": 3
      },
      "file_extension": ".py",
      "mimetype": "text/x-python",
      "name": "python",
      "nbconvert_exporter": "python",
      "pygments_lexer": "ipython3",
      "version": "3.7.12"
    },
    "papermill": {
      "default_parameters": {},
      "duration": 29.615665,
      "end_time": "2023-04-25T22:39:38.419162",
      "environment_variables": {},
      "exception": null,
      "input_path": "__notebook__.ipynb",
      "output_path": "__notebook__.ipynb",
      "parameters": {},
      "start_time": "2023-04-25T22:39:08.803497",
      "version": "2.4.0"
    },
    "widgets": {
      "application/vnd.jupyter.widget-state+json": {}
    },
    "colab": {
      "provenance": []
    }
  },
  "nbformat": 4,
  "nbformat_minor": 5
}